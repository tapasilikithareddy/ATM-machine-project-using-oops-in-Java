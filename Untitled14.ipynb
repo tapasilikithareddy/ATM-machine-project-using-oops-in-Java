{
  "nbformat": 4,
  "nbformat_minor": 0,
  "metadata": {
    "colab": {
      "provenance": [],
      "authorship_tag": "ABX9TyOkKlheh12NZ2+pK6okfP9p",
      "include_colab_link": true
    },
    "kernelspec": {
      "name": "python3",
      "display_name": "Python 3"
    },
    "language_info": {
      "name": "python"
    }
  },
  "cells": [
    {
      "cell_type": "markdown",
      "metadata": {
        "id": "view-in-github",
        "colab_type": "text"
      },
      "source": [
        "<a href=\"https://colab.research.google.com/github/tapasilikithareddy/ATM-machine-project-using-oops-in-Java/blob/main/Untitled14.ipynb\" target=\"_parent\"><img src=\"https://colab.research.google.com/assets/colab-badge.svg\" alt=\"Open In Colab\"/></a>"
      ]
    },
    {
      "cell_type": "code",
      "execution_count": 1,
      "metadata": {
        "colab": {
          "base_uri": "https://localhost:8080/"
        },
        "id": "N4OwTqAanAGa",
        "outputId": "f730f381-690d-43c9-bffc-71a2993440dc"
      },
      "outputs": [
        {
          "output_type": "stream",
          "name": "stdout",
          "text": [
            "Collecting fpdf\n",
            "  Downloading fpdf-1.7.2.tar.gz (39 kB)\n",
            "  Preparing metadata (setup.py) ... \u001b[?25l\u001b[?25hdone\n",
            "Building wheels for collected packages: fpdf\n",
            "  Building wheel for fpdf (setup.py) ... \u001b[?25l\u001b[?25hdone\n",
            "  Created wheel for fpdf: filename=fpdf-1.7.2-py2.py3-none-any.whl size=40704 sha256=622ef1fed5678fc1497e0d363b1a14fdd1f9d07890557abede6774ec7c0faab1\n",
            "  Stored in directory: /root/.cache/pip/wheels/f9/95/ba/f418094659025eb9611f17cbcaf2334236bf39a0c3453ea455\n",
            "Successfully built fpdf\n",
            "Installing collected packages: fpdf\n",
            "Successfully installed fpdf-1.7.2\n"
          ]
        }
      ],
      "source": [
        "!pip install fpdf"
      ]
    },
    {
      "cell_type": "code",
      "source": [
        "from fpdf import FPDF\n",
        "\n",
        "class PDF(FPDF):\n",
        "    def header(self):\n",
        "        self.set_font('Arial', 'B', 12)\n",
        "        self.cell(0, 10, 'Eco Innovator Pitch Deck', 0, 1, 'C')\n",
        "\n",
        "    def chapter_title(self, title):\n",
        "        self.set_font('Arial', 'B', 12)\n",
        "        self.cell(0, 10, title, 0, 1, 'L')\n",
        "        self.ln(2)\n",
        "\n",
        "    def chapter_body(self, body):\n",
        "        self.set_font('Arial', '', 12)\n",
        "        self.multi_cell(0, 10, body)\n",
        "        self.ln()\n",
        "\n",
        "pdf = PDF()\n",
        "pdf.add_page()\n",
        "\n",
        "# Title Slide\n",
        "pdf.chapter_title('1. Title Slide')\n",
        "pdf.chapter_body('Project Name: Eco Innovator\\nYour Name\\nContact Information')\n",
        "\n",
        "# Problem Statement\n",
        "pdf.chapter_title('2. Problem Statement')\n",
        "pdf.chapter_body('Businesses face sustainability challenges that harm the environment and society.')\n",
        "\n",
        "# Solution Overview\n",
        "pdf.chapter_title('3. Solution Overview')\n",
        "pdf.chapter_body('Eco Innovator leverages generative AI to create sustainable business models.')\n",
        "\n",
        "# Unique Selling Proposition (USP)\n",
        "pdf.chapter_title('4. Unique Selling Proposition (USP)')\n",
        "pdf.chapter_body('Tailored solutions, impact assessments, market insights, and scenario simulations make Eco Innovator unique.')\n",
        "\n",
        "# Key Features\n",
        "pdf.chapter_title('5. Key Features')\n",
        "pdf.chapter_body('Key Features include:\\n- Personalized Solutions\\n- Impact Assessment\\n- Market Insights\\n- Scenario Simulation')\n",
        "\n",
        "# Target Audience\n",
        "pdf.chapter_title('6. Target Audience')\n",
        "pdf.chapter_body('Eco Innovator targets SMEs, startups, and larger corporations.')\n",
        "\n",
        "# Market Opportunity\n",
        "pdf.chapter_title('7. Market Opportunity')\n",
        "pdf.chapter_body('There is a growing demand for sustainable business solutions across industries.')\n",
        "\n",
        "# Implementation Plan\n",
        "pdf.chapter_title('8. Implementation Plan')\n",
        "pdf.chapter_body('Steps include developing a prototype, pilot testing, and refinement.')\n",
        "\n",
        "# Benefits\n",
        "pdf.chapter_title('9. Benefits')\n",
        "pdf.chapter_body('Businesses can innovate sustainably while enhancing profitability and social responsibility.')\n",
        "\n",
        "# Next Steps\n",
        "pdf.chapter_title('10. Next Steps')\n",
        "pdf.chapter_body('Immediate actions include prototyping and gathering user feedback.')\n",
        "\n",
        "# Conclusion\n",
        "pdf.chapter_title('11. Conclusion')\n",
        "pdf.chapter_body('Eco Innovator aims to create a sustainable future through innovative business solutions.')\n",
        "\n",
        "# Save the PDF\n",
        "pdf.output('Eco_Innovator_Pitch_Deck.pdf')\n"
      ],
      "metadata": {
        "colab": {
          "base_uri": "https://localhost:8080/",
          "height": 36
        },
        "id": "tw4GkAFMnI6X",
        "outputId": "77c90486-10ab-48f7-aa30-ff0573880ef3"
      },
      "execution_count": 4,
      "outputs": [
        {
          "output_type": "execute_result",
          "data": {
            "text/plain": [
              "''"
            ],
            "application/vnd.google.colaboratory.intrinsic+json": {
              "type": "string"
            }
          },
          "metadata": {},
          "execution_count": 4
        }
      ]
    },
    {
      "cell_type": "code",
      "source": [
        "from google.colab import files\n",
        "files.download('Eco_Innovator_Pitch_Deck.pdf')\n"
      ],
      "metadata": {
        "colab": {
          "base_uri": "https://localhost:8080/",
          "height": 17
        },
        "id": "cIGxdKjwnuXK",
        "outputId": "e4a301f4-0969-44de-aa00-c8ddfa6b9bc3"
      },
      "execution_count": 5,
      "outputs": [
        {
          "output_type": "display_data",
          "data": {
            "text/plain": [
              "<IPython.core.display.Javascript object>"
            ],
            "application/javascript": [
              "\n",
              "    async function download(id, filename, size) {\n",
              "      if (!google.colab.kernel.accessAllowed) {\n",
              "        return;\n",
              "      }\n",
              "      const div = document.createElement('div');\n",
              "      const label = document.createElement('label');\n",
              "      label.textContent = `Downloading \"${filename}\": `;\n",
              "      div.appendChild(label);\n",
              "      const progress = document.createElement('progress');\n",
              "      progress.max = size;\n",
              "      div.appendChild(progress);\n",
              "      document.body.appendChild(div);\n",
              "\n",
              "      const buffers = [];\n",
              "      let downloaded = 0;\n",
              "\n",
              "      const channel = await google.colab.kernel.comms.open(id);\n",
              "      // Send a message to notify the kernel that we're ready.\n",
              "      channel.send({})\n",
              "\n",
              "      for await (const message of channel.messages) {\n",
              "        // Send a message to notify the kernel that we're ready.\n",
              "        channel.send({})\n",
              "        if (message.buffers) {\n",
              "          for (const buffer of message.buffers) {\n",
              "            buffers.push(buffer);\n",
              "            downloaded += buffer.byteLength;\n",
              "            progress.value = downloaded;\n",
              "          }\n",
              "        }\n",
              "      }\n",
              "      const blob = new Blob(buffers, {type: 'application/binary'});\n",
              "      const a = document.createElement('a');\n",
              "      a.href = window.URL.createObjectURL(blob);\n",
              "      a.download = filename;\n",
              "      div.appendChild(a);\n",
              "      a.click();\n",
              "      div.remove();\n",
              "    }\n",
              "  "
            ]
          },
          "metadata": {}
        },
        {
          "output_type": "display_data",
          "data": {
            "text/plain": [
              "<IPython.core.display.Javascript object>"
            ],
            "application/javascript": [
              "download(\"download_608f1109-5670-41ea-8c50-270ad5417db5\", \"Eco_Innovator_Pitch_Deck.pdf\", 2281)"
            ]
          },
          "metadata": {}
        }
      ]
    }
  ]
}